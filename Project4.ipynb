{
 "cells": [
  {
   "cell_type": "markdown",
   "id": "910faef5",
   "metadata": {},
   "source": [
    "# Project 4 - Team Wiley"
   ]
  },
  {
   "cell_type": "markdown",
   "id": "9ade147d",
   "metadata": {},
   "source": [
    "Context for the Code Reviewers:\n",
    "\n",
    "Our team only has 1 coder, and last week/this week has been her RRR/finals week for all her other classes. So the code is sparse, but she will be able to continue working on it starting tomorrow!"
   ]
  },
  {
   "cell_type": "markdown",
   "id": "c94f777b",
   "metadata": {},
   "source": [
    "### Goals/notes\n",
    "* Focus on Uganda, families, 2011\n",
    "* How does demand increase with each individual child?"
   ]
  },
  {
   "cell_type": "code",
   "execution_count": 1,
   "id": "cabe9290",
   "metadata": {},
   "outputs": [
    {
     "name": "stdout",
     "output_type": "stream",
     "text": [
      "Collecting CFEDemands\n",
      "  Using cached CFEDemands-0.4.1-py2.py3-none-any.whl (39 kB)\n",
      "Installing collected packages: CFEDemands\n",
      "Successfully installed CFEDemands-0.4.1\n",
      "Collecting ConsumerDemands\n",
      "  Using cached ConsumerDemands-0.3.dev0-py2.py3-none-any.whl (12 kB)\n",
      "Installing collected packages: ConsumerDemands\n",
      "Successfully installed ConsumerDemands-0.3.dev0\n",
      "Collecting oauth2client\n",
      "  Using cached oauth2client-4.1.3-py2.py3-none-any.whl (98 kB)\n",
      "Requirement already satisfied: httplib2>=0.9.1 in /opt/conda/lib/python3.9/site-packages (from oauth2client) (0.20.4)\n",
      "Requirement already satisfied: six>=1.6.1 in /opt/conda/lib/python3.9/site-packages (from oauth2client) (1.16.0)\n",
      "Requirement already satisfied: pyasn1>=0.1.7 in /opt/conda/lib/python3.9/site-packages (from oauth2client) (0.4.8)\n",
      "Requirement already satisfied: rsa>=3.1.4 in /opt/conda/lib/python3.9/site-packages (from oauth2client) (4.8)\n",
      "Requirement already satisfied: pyasn1-modules>=0.0.5 in /opt/conda/lib/python3.9/site-packages (from oauth2client) (0.2.8)\n",
      "Requirement already satisfied: pyparsing!=3.0.0,!=3.0.1,!=3.0.2,!=3.0.3,<4,>=2.4.2; python_version > \"3.0\" in /opt/conda/lib/python3.9/site-packages (from httplib2>=0.9.1->oauth2client) (3.0.7)\n",
      "Installing collected packages: oauth2client\n",
      "Successfully installed oauth2client-4.1.3\n",
      "Collecting eep153_tools\n",
      "  Using cached eep153_tools-0.11-py2.py3-none-any.whl (4.4 kB)\n",
      "Installing collected packages: eep153-tools\n",
      "Successfully installed eep153-tools-0.11\n",
      "Processing ./.cache/pip/wheels/20/7e/30/7d702acd6a1e89911301cd9dbf9cb9870ca80c0e64bc2cde23/gnupg-2.3.1-py3-none-any.whl\n",
      "Requirement already satisfied: psutil>=1.2.1 in /opt/conda/lib/python3.9/site-packages (from gnupg) (5.9.0)\n",
      "Installing collected packages: gnupg\n",
      "Successfully installed gnupg-2.3.1\n"
     ]
    }
   ],
   "source": [
    "!pip install CFEDemands --upgrade\n",
    "!pip install ConsumerDemands\n",
    "!pip install oauth2client\n",
    "!pip install eep153_tools\n",
    "!pip install gnupg\n",
    "#!pip install dvc"
   ]
  },
  {
   "cell_type": "code",
   "execution_count": 2,
   "id": "41b05324",
   "metadata": {},
   "outputs": [],
   "source": [
    "from eep153_tools.sheets import read_sheets\n",
    "import numpy as np\n",
    "import pandas as pd\n",
    "from matplotlib import pyplot as plt"
   ]
  },
  {
   "cell_type": "markdown",
   "id": "4c42997f",
   "metadata": {},
   "source": [
    "### Data"
   ]
  },
  {
   "cell_type": "code",
   "execution_count": 3,
   "id": "5acf66ba",
   "metadata": {},
   "outputs": [],
   "source": [
    "InputFiles = {'Expenditures':('1mZcHvSD55wGCicdqxbEnioE3AOXM_pVb6zVwHhtBzSk','Expenditures'),\n",
    "              'Consumption':('1RT5AfbZbWx-CmNaOHLp7aD9qEjgjiBv8lZmPexuKEWg','Consumption'),\n",
    "              'HH Characteristics':('1mZcHvSD55wGCicdqxbEnioE3AOXM_pVb6zVwHhtBzSk','HH Characteristics'),\n",
    "              'FCT': ('1DjpLsyhUbQ-giGcTS_GMrDuW_wG3VDrYH1p-FanKxxs','Codes')}"
   ]
  },
  {
   "cell_type": "markdown",
   "id": "8475a9e1",
   "metadata": {},
   "source": [
    "#### Function to read in sheets:"
   ]
  },
  {
   "cell_type": "code",
   "execution_count": 4,
   "id": "19340e64",
   "metadata": {},
   "outputs": [],
   "source": [
    "def get_clean_sheet(key,sheet=None):\n",
    "    dfs = read_sheets(key)\n",
    "    if sheet is not None:\n",
    "        df = dfs[sheet]\n",
    "    else:\n",
    "        df = dfs.values()[0] \n",
    "    df.columns = [c.strip() for c in df.columns.tolist()]\n",
    "    df = df.loc[:,~df.columns.duplicated(keep='first')]   \n",
    "    df = df.drop([col for col in df.columns if col.startswith('Unnamed')], axis=1)\n",
    "    df = df.loc[~df.index.duplicated(), :]\n",
    "    return df"
   ]
  },
  {
   "cell_type": "markdown",
   "id": "8e1dc87f",
   "metadata": {},
   "source": [
    "#### Expenditure Table"
   ]
  },
  {
   "cell_type": "code",
   "execution_count": 5,
   "id": "c4c53dcb",
   "metadata": {},
   "outputs": [
    {
     "name": "stdout",
     "output_type": "stream",
     "text": [
      "Key available for students@eep153.iam.gserviceaccount.com.\n"
     ]
    }
   ],
   "source": [
    "x = get_clean_sheet(InputFiles['Expenditures'][0],\n",
    "                    sheet=InputFiles['Expenditures'][1])\n",
    "\n",
    "if 'm' not in x.columns:\n",
    "    x['m'] = 1\n",
    "\n",
    "x = x.set_index(['j','t','m'])\n",
    "x.columns.name = 'i'\n",
    "\n",
    "x = x.apply(lambda x: pd.to_numeric(x,errors='coerce'))\n",
    "x = x.replace(0,np.nan)\n",
    "\n",
    "\n",
    "\n",
    "# We only want data from 2011, as that is our focus year:\n",
    "x_2011 = x[x.index.isin([2011], level=1)]\n",
    "\n",
    "# Log of expenditure table (x); \n",
    "# log table (y) will be used for later estimation:\n",
    "y_2011 = np.log(x_2011)"
   ]
  },
  {
   "cell_type": "markdown",
   "id": "3b4435d3",
   "metadata": {},
   "source": [
    "#### Household Characteristics Table"
   ]
  },
  {
   "cell_type": "code",
   "execution_count": 6,
   "id": "75dc7ca1",
   "metadata": {},
   "outputs": [
    {
     "name": "stdout",
     "output_type": "stream",
     "text": [
      "Key available for students@eep153.iam.gserviceaccount.com.\n"
     ]
    }
   ],
   "source": [
    "z = get_clean_sheet(InputFiles['HH Characteristics'][0],\n",
    "                    sheet=InputFiles['HH Characteristics'][1])\n",
    "\n",
    "if 'm' not in z.columns:\n",
    "    z['m'] = 1\n",
    "\n",
    "z = z.set_index(['j','t','m'])\n",
    "z.columns.name = 'k'\n",
    "\n",
    "z = z.apply(lambda x: pd.to_numeric(x,errors='coerce'))\n",
    "\n",
    "\n",
    "\n",
    "z_2011 = z[z.index.isin([2011], level=1)]"
   ]
  },
  {
   "cell_type": "markdown",
   "id": "1740a9a0",
   "metadata": {},
   "source": [
    "#### Consumption Quantities Table"
   ]
  },
  {
   "cell_type": "code",
   "execution_count": 7,
   "id": "805a6d54",
   "metadata": {},
   "outputs": [
    {
     "name": "stdout",
     "output_type": "stream",
     "text": [
      "Key available for students@eep153.iam.gserviceaccount.com.\n"
     ]
    }
   ],
   "source": [
    "q = get_clean_sheet(InputFiles['Consumption'][0],\n",
    "                    sheet=InputFiles['Consumption'][1])\n",
    "\n",
    "if 'm' not in q.columns:\n",
    "    q['m'] = 1\n",
    "\n",
    "q = q.set_index(['j','t','m','u'])\n",
    "q.columns.name = 'i'\n",
    "\n",
    "q = q.apply(lambda x: pd.to_numeric(x,errors='coerce'))\n",
    "q = q.replace(0,np.nan)\n",
    "\n",
    "\n",
    "\n",
    "q_2011 = q[q.index.isin([2011], level=1)]"
   ]
  },
  {
   "cell_type": "markdown",
   "id": "620584a4",
   "metadata": {},
   "source": [
    "#### Food Conversion Table"
   ]
  },
  {
   "cell_type": "code",
   "execution_count": 8,
   "id": "49693a45",
   "metadata": {},
   "outputs": [
    {
     "name": "stdout",
     "output_type": "stream",
     "text": [
      "Key available for students@eep153.iam.gserviceaccount.com.\n"
     ]
    }
   ],
   "source": [
    "fct = get_clean_sheet(InputFiles['FCT'][0],sheet=InputFiles['FCT'][1])\n",
    "\n",
    "fct.index.name = 'i'\n",
    "foods = fct['Food description']\n",
    "fct = fct.apply(lambda x: pd.to_numeric(x,errors='coerce'))\n",
    "fct['Food description'] = foods\n",
    "fct = fct.set_index('Food description')"
   ]
  },
  {
   "cell_type": "markdown",
   "id": "faf971a5",
   "metadata": {},
   "source": [
    "## Population\n",
    "\n",
    "* Compare households **in the same income bracket** with **different numbers of children** to understand how demand of nutrients changes per child added to a household\n",
    "    - We don’t have income levels, we only have household expenditures\n",
    "    - Does this cause a problem, like if a family of 6 in one income bracket has a similar household expenditure to a family of 6 in a higher income bracket???\n",
    "    - Be really picky about households, make sure they’re actually very similar\n",
    "* We might want to take **a couple households with the same number of children each and find an average** (like an average for a household with 2 children, an average for a household with 5 children) and compare averages\n",
    "\n",
    "\n",
    "Ideas:\n",
    "* Definitely create filters\n",
    "    - Children TOTAL filter\n",
    "    - Adult TOTAL filter\n",
    "    - Doesn't matter what the breakdown is, as long as children=children and adult=adult for every household in that particular dataset\n",
    "    - We can call any combo of age breakdowns with this system\n",
    "* Look up income data in a separate place? Will it even be household specific tho, to the same household id's that we have here?"
   ]
  },
  {
   "cell_type": "code",
   "execution_count": 9,
   "id": "6513c638",
   "metadata": {},
   "outputs": [
    {
     "name": "stderr",
     "output_type": "stream",
     "text": [
      "/tmp/ipykernel_24/2959427395.py:3: SettingWithCopyWarning: \n",
      "A value is trying to be set on a copy of a slice from a DataFrame.\n",
      "Try using .loc[row_indexer,col_indexer] = value instead\n",
      "\n",
      "See the caveats in the documentation: https://pandas.pydata.org/pandas-docs/stable/user_guide/indexing.html#returning-a-view-versus-a-copy\n",
      "  z_count[\"Children\"], z_count[\"Adults\"] = [(z_2011[\"M 0-3\"] + z_2011[\"F 0-3\"] +\n"
     ]
    }
   ],
   "source": [
    "# Make a column with total count of children, and one with total count of adults:\n",
    "z_count = z_2011\n",
    "z_count[\"Children\"], z_count[\"Adults\"] = [(z_2011[\"M 0-3\"] + z_2011[\"F 0-3\"] + \n",
    "                                           z_2011[\"M 4-8\"] + z_2011[\"F 4-8\"] +\n",
    "                                           z_2011[\"M 9-13\"] + z_2011[\"F 9-13\"] +\n",
    "                                           z_2011[\"M 14-18\"] + z_2011[\"F 14-18\"]),\n",
    "                                          (z_2011[\"M 19-30\"] + z_2011[\"F 19-30\"] + \n",
    "                                           z_2011[\"M 31-50\"] + z_2011[\"F 31-50\"] +\n",
    "                                           z_2011[\"M 51+\"] + z_2011[\"F 51+\"])]"
   ]
  },
  {
   "cell_type": "code",
   "execution_count": 10,
   "id": "a896f49c",
   "metadata": {},
   "outputs": [
    {
     "data": {
      "text/html": [
       "<div>\n",
       "<style scoped>\n",
       "    .dataframe tbody tr th:only-of-type {\n",
       "        vertical-align: middle;\n",
       "    }\n",
       "\n",
       "    .dataframe tbody tr th {\n",
       "        vertical-align: top;\n",
       "    }\n",
       "\n",
       "    .dataframe thead th {\n",
       "        text-align: right;\n",
       "    }\n",
       "</style>\n",
       "<table border=\"1\" class=\"dataframe\">\n",
       "  <thead>\n",
       "    <tr style=\"text-align: right;\">\n",
       "      <th></th>\n",
       "      <th></th>\n",
       "      <th>k</th>\n",
       "      <th>M 0-3</th>\n",
       "      <th>M 4-8</th>\n",
       "      <th>M 9-13</th>\n",
       "      <th>M 14-18</th>\n",
       "      <th>M 19-30</th>\n",
       "      <th>M 31-50</th>\n",
       "      <th>M 51+</th>\n",
       "      <th>F 0-3</th>\n",
       "      <th>F 4-8</th>\n",
       "      <th>F 9-13</th>\n",
       "      <th>F 14-18</th>\n",
       "      <th>F 19-30</th>\n",
       "      <th>F 31-50</th>\n",
       "      <th>F 51+</th>\n",
       "      <th>Children</th>\n",
       "      <th>Adults</th>\n",
       "    </tr>\n",
       "    <tr>\n",
       "      <th>j</th>\n",
       "      <th>t</th>\n",
       "      <th>m</th>\n",
       "      <th></th>\n",
       "      <th></th>\n",
       "      <th></th>\n",
       "      <th></th>\n",
       "      <th></th>\n",
       "      <th></th>\n",
       "      <th></th>\n",
       "      <th></th>\n",
       "      <th></th>\n",
       "      <th></th>\n",
       "      <th></th>\n",
       "      <th></th>\n",
       "      <th></th>\n",
       "      <th></th>\n",
       "      <th></th>\n",
       "      <th></th>\n",
       "    </tr>\n",
       "  </thead>\n",
       "  <tbody>\n",
       "    <tr>\n",
       "      <th>1013000201</th>\n",
       "      <th>2011</th>\n",
       "      <th>1</th>\n",
       "      <td>0</td>\n",
       "      <td>1</td>\n",
       "      <td>2</td>\n",
       "      <td>1</td>\n",
       "      <td>0</td>\n",
       "      <td>0</td>\n",
       "      <td>0</td>\n",
       "      <td>0</td>\n",
       "      <td>0</td>\n",
       "      <td>0</td>\n",
       "      <td>1</td>\n",
       "      <td>1</td>\n",
       "      <td>1</td>\n",
       "      <td>0</td>\n",
       "      <td>5</td>\n",
       "      <td>2</td>\n",
       "    </tr>\n",
       "    <tr>\n",
       "      <th>1013000202</th>\n",
       "      <th>2011</th>\n",
       "      <th>1</th>\n",
       "      <td>0</td>\n",
       "      <td>1</td>\n",
       "      <td>0</td>\n",
       "      <td>0</td>\n",
       "      <td>0</td>\n",
       "      <td>0</td>\n",
       "      <td>0</td>\n",
       "      <td>0</td>\n",
       "      <td>1</td>\n",
       "      <td>0</td>\n",
       "      <td>0</td>\n",
       "      <td>0</td>\n",
       "      <td>1</td>\n",
       "      <td>0</td>\n",
       "      <td>2</td>\n",
       "      <td>1</td>\n",
       "    </tr>\n",
       "    <tr>\n",
       "      <th>1013000204</th>\n",
       "      <th>2011</th>\n",
       "      <th>1</th>\n",
       "      <td>0</td>\n",
       "      <td>0</td>\n",
       "      <td>0</td>\n",
       "      <td>0</td>\n",
       "      <td>0</td>\n",
       "      <td>1</td>\n",
       "      <td>0</td>\n",
       "      <td>1</td>\n",
       "      <td>2</td>\n",
       "      <td>0</td>\n",
       "      <td>0</td>\n",
       "      <td>0</td>\n",
       "      <td>1</td>\n",
       "      <td>0</td>\n",
       "      <td>3</td>\n",
       "      <td>2</td>\n",
       "    </tr>\n",
       "    <tr>\n",
       "      <th>1013000206</th>\n",
       "      <th>2011</th>\n",
       "      <th>1</th>\n",
       "      <td>0</td>\n",
       "      <td>0</td>\n",
       "      <td>0</td>\n",
       "      <td>0</td>\n",
       "      <td>2</td>\n",
       "      <td>1</td>\n",
       "      <td>0</td>\n",
       "      <td>0</td>\n",
       "      <td>0</td>\n",
       "      <td>0</td>\n",
       "      <td>0</td>\n",
       "      <td>0</td>\n",
       "      <td>0</td>\n",
       "      <td>0</td>\n",
       "      <td>0</td>\n",
       "      <td>3</td>\n",
       "    </tr>\n",
       "    <tr>\n",
       "      <th>1013000210</th>\n",
       "      <th>2011</th>\n",
       "      <th>1</th>\n",
       "      <td>0</td>\n",
       "      <td>0</td>\n",
       "      <td>0</td>\n",
       "      <td>0</td>\n",
       "      <td>2</td>\n",
       "      <td>1</td>\n",
       "      <td>0</td>\n",
       "      <td>0</td>\n",
       "      <td>0</td>\n",
       "      <td>0</td>\n",
       "      <td>0</td>\n",
       "      <td>0</td>\n",
       "      <td>0</td>\n",
       "      <td>0</td>\n",
       "      <td>0</td>\n",
       "      <td>3</td>\n",
       "    </tr>\n",
       "    <tr>\n",
       "      <th>...</th>\n",
       "      <th>...</th>\n",
       "      <th>...</th>\n",
       "      <td>...</td>\n",
       "      <td>...</td>\n",
       "      <td>...</td>\n",
       "      <td>...</td>\n",
       "      <td>...</td>\n",
       "      <td>...</td>\n",
       "      <td>...</td>\n",
       "      <td>...</td>\n",
       "      <td>...</td>\n",
       "      <td>...</td>\n",
       "      <td>...</td>\n",
       "      <td>...</td>\n",
       "      <td>...</td>\n",
       "      <td>...</td>\n",
       "      <td>...</td>\n",
       "      <td>...</td>\n",
       "    </tr>\n",
       "    <tr>\n",
       "      <th>3010730012030203</th>\n",
       "      <th>2011</th>\n",
       "      <th>1</th>\n",
       "      <td>0</td>\n",
       "      <td>0</td>\n",
       "      <td>0</td>\n",
       "      <td>0</td>\n",
       "      <td>0</td>\n",
       "      <td>0</td>\n",
       "      <td>1</td>\n",
       "      <td>1</td>\n",
       "      <td>0</td>\n",
       "      <td>0</td>\n",
       "      <td>0</td>\n",
       "      <td>1</td>\n",
       "      <td>0</td>\n",
       "      <td>0</td>\n",
       "      <td>1</td>\n",
       "      <td>2</td>\n",
       "    </tr>\n",
       "    <tr>\n",
       "      <th>3010730016100203</th>\n",
       "      <th>2011</th>\n",
       "      <th>1</th>\n",
       "      <td>0</td>\n",
       "      <td>0</td>\n",
       "      <td>0</td>\n",
       "      <td>0</td>\n",
       "      <td>0</td>\n",
       "      <td>1</td>\n",
       "      <td>0</td>\n",
       "      <td>0</td>\n",
       "      <td>0</td>\n",
       "      <td>0</td>\n",
       "      <td>0</td>\n",
       "      <td>1</td>\n",
       "      <td>0</td>\n",
       "      <td>0</td>\n",
       "      <td>0</td>\n",
       "      <td>2</td>\n",
       "    </tr>\n",
       "    <tr>\n",
       "      <th>3010830020020503</th>\n",
       "      <th>2011</th>\n",
       "      <th>1</th>\n",
       "      <td>0</td>\n",
       "      <td>0</td>\n",
       "      <td>0</td>\n",
       "      <td>0</td>\n",
       "      <td>0</td>\n",
       "      <td>1</td>\n",
       "      <td>0</td>\n",
       "      <td>1</td>\n",
       "      <td>0</td>\n",
       "      <td>0</td>\n",
       "      <td>0</td>\n",
       "      <td>1</td>\n",
       "      <td>1</td>\n",
       "      <td>0</td>\n",
       "      <td>1</td>\n",
       "      <td>3</td>\n",
       "    </tr>\n",
       "    <tr>\n",
       "      <th>3030230010040204</th>\n",
       "      <th>2011</th>\n",
       "      <th>1</th>\n",
       "      <td>0</td>\n",
       "      <td>0</td>\n",
       "      <td>0</td>\n",
       "      <td>0</td>\n",
       "      <td>1</td>\n",
       "      <td>0</td>\n",
       "      <td>0</td>\n",
       "      <td>0</td>\n",
       "      <td>0</td>\n",
       "      <td>0</td>\n",
       "      <td>1</td>\n",
       "      <td>0</td>\n",
       "      <td>0</td>\n",
       "      <td>0</td>\n",
       "      <td>1</td>\n",
       "      <td>1</td>\n",
       "    </tr>\n",
       "    <tr>\n",
       "      <th>30211230006050302</th>\n",
       "      <th>2011</th>\n",
       "      <th>1</th>\n",
       "      <td>0</td>\n",
       "      <td>0</td>\n",
       "      <td>0</td>\n",
       "      <td>0</td>\n",
       "      <td>0</td>\n",
       "      <td>0</td>\n",
       "      <td>0</td>\n",
       "      <td>1</td>\n",
       "      <td>0</td>\n",
       "      <td>0</td>\n",
       "      <td>0</td>\n",
       "      <td>1</td>\n",
       "      <td>0</td>\n",
       "      <td>1</td>\n",
       "      <td>1</td>\n",
       "      <td>2</td>\n",
       "    </tr>\n",
       "  </tbody>\n",
       "</table>\n",
       "<p>2850 rows × 16 columns</p>\n",
       "</div>"
      ],
      "text/plain": [
       "k                         M 0-3  M 4-8  M 9-13  M 14-18  M 19-30  M 31-50  \\\n",
       "j                 t    m                                                    \n",
       "1013000201        2011 1      0      1       2        1        0        0   \n",
       "1013000202        2011 1      0      1       0        0        0        0   \n",
       "1013000204        2011 1      0      0       0        0        0        1   \n",
       "1013000206        2011 1      0      0       0        0        2        1   \n",
       "1013000210        2011 1      0      0       0        0        2        1   \n",
       "...                         ...    ...     ...      ...      ...      ...   \n",
       "3010730012030203  2011 1      0      0       0        0        0        0   \n",
       "3010730016100203  2011 1      0      0       0        0        0        1   \n",
       "3010830020020503  2011 1      0      0       0        0        0        1   \n",
       "3030230010040204  2011 1      0      0       0        0        1        0   \n",
       "30211230006050302 2011 1      0      0       0        0        0        0   \n",
       "\n",
       "k                         M 51+  F 0-3  F 4-8  F 9-13  F 14-18  F 19-30  \\\n",
       "j                 t    m                                                  \n",
       "1013000201        2011 1      0      0      0       0        1        1   \n",
       "1013000202        2011 1      0      0      1       0        0        0   \n",
       "1013000204        2011 1      0      1      2       0        0        0   \n",
       "1013000206        2011 1      0      0      0       0        0        0   \n",
       "1013000210        2011 1      0      0      0       0        0        0   \n",
       "...                         ...    ...    ...     ...      ...      ...   \n",
       "3010730012030203  2011 1      1      1      0       0        0        1   \n",
       "3010730016100203  2011 1      0      0      0       0        0        1   \n",
       "3010830020020503  2011 1      0      1      0       0        0        1   \n",
       "3030230010040204  2011 1      0      0      0       0        1        0   \n",
       "30211230006050302 2011 1      0      1      0       0        0        1   \n",
       "\n",
       "k                         F 31-50  F 51+  Children  Adults  \n",
       "j                 t    m                                    \n",
       "1013000201        2011 1        1      0         5       2  \n",
       "1013000202        2011 1        1      0         2       1  \n",
       "1013000204        2011 1        1      0         3       2  \n",
       "1013000206        2011 1        0      0         0       3  \n",
       "1013000210        2011 1        0      0         0       3  \n",
       "...                           ...    ...       ...     ...  \n",
       "3010730012030203  2011 1        0      0         1       2  \n",
       "3010730016100203  2011 1        0      0         0       2  \n",
       "3010830020020503  2011 1        1      0         1       3  \n",
       "3030230010040204  2011 1        0      0         1       1  \n",
       "30211230006050302 2011 1        0      1         1       2  \n",
       "\n",
       "[2850 rows x 16 columns]"
      ]
     },
     "execution_count": 10,
     "metadata": {},
     "output_type": "execute_result"
    }
   ],
   "source": [
    "z_count"
   ]
  },
  {
   "cell_type": "code",
   "execution_count": 11,
   "id": "8f158861",
   "metadata": {},
   "outputs": [],
   "source": [
    "# Manually looking at households WITH children and seeing what child/adult breakdowns we're interested in:\n",
    "filter_kid = z_count[\"Children\"]!=0\n",
    "z_kids = z_count[filter_kid]\n",
    "df_analyze = z_kids[['Children', 'Adults']]\n",
    "\n",
    "# Uncomment to look at it again:\n",
    "# df_analyze.head(60)"
   ]
  },
  {
   "cell_type": "markdown",
   "id": "f7c88985",
   "metadata": {},
   "source": [
    "Now what dataframes should we create to focus on? We can do any combination of adults and children in a house;\n",
    "* _**Focus on houses with just 2 adults**_, as a control measure (and because it's overwhelmingly common)\n",
    "    - But that could be a bit biased; there are some households with many adults, perhaps multi-family households. These could be more likely to be low-income (living together to support each other), and we are just omitting them from the get-go. Something to note !\n",
    "* Look at the difference from 2 kids to 3, to 4... perhaps 4 to 5?\n",
    "* Do analysis regardless of income level? Because we don't know it? Just get an average "
   ]
  },
  {
   "cell_type": "code",
   "execution_count": 12,
   "id": "1164ea55",
   "metadata": {},
   "outputs": [],
   "source": [
    "# 0 kids filter:\n",
    "filter0 = z_count[\"Children\"]==0\n",
    "\n",
    "# 1 kid filter:\n",
    "filter1 = z_count[\"Children\"]==1\n",
    "\n",
    "# 2 kids filter:\n",
    "filter2 = z_count[\"Children\"]==2\n",
    "\n",
    "# 3 kids filter:\n",
    "filter3 = z_count[\"Children\"]==3\n",
    "\n",
    "# 4 kids filter:\n",
    "filter4 = z_count[\"Children\"]==4\n",
    "\n",
    "# 5 kids filter:\n",
    "filter5 = z_count[\"Children\"]==5\n",
    "\n",
    "# 6 kids filter:\n",
    "filter6 = z_count[\"Children\"]==6\n",
    "\n",
    "\n",
    "# Only 2 adults filter:\n",
    "filter_adult = z_count[\"Adults\"]==2"
   ]
  },
  {
   "cell_type": "code",
   "execution_count": 13,
   "id": "d630afb5",
   "metadata": {},
   "outputs": [],
   "source": [
    "# Use filters in different combinations to get 4 different dataframes:\n",
    "\n",
    "zero_kid = z_count[filter0 & filter_adult]\n",
    "\n",
    "one_kid = z_count[filter1 & filter_adult]\n",
    "\n",
    "two_kid = z_count[filter2 & filter_adult]\n",
    "\n",
    "three_kid = z_count[filter3 & filter_adult]\n",
    "\n",
    "four_kid = z_count[filter4 & filter_adult]\n",
    "\n",
    "five_kid = z_count[filter5 & filter_adult]\n",
    "\n",
    "six_kid = z_count[filter6 & filter_adult]"
   ]
  },
  {
   "cell_type": "code",
   "execution_count": 14,
   "id": "3895754e",
   "metadata": {},
   "outputs": [],
   "source": [
    "# Function to get household id numbers from any dataframe\n",
    "def get_ids(df):\n",
    "    multiple_list = list(df.index.values)\n",
    "    return [i[0] for i in multiple_list]\n",
    "\n",
    "\n",
    "# Function to get total expenditures of any dataframe\n",
    "def get_total_exp(df):\n",
    "    return (df.sum(axis = 1)).to_frame('Total Exp').droplevel(level=[1,2])\n",
    "# get rid of droplevel ^ if that ends up being a matching problem\n",
    "\n",
    "\n",
    "# Function to get a total average expenditure for all households, for a dataframe like that ^\n",
    "def average_exp(df):\n",
    "    list_exp = df['Total Exp'].tolist()\n",
    "    return sum(list_exp)/len(list_exp)"
   ]
  },
  {
   "cell_type": "markdown",
   "id": "8803da6c",
   "metadata": {},
   "source": [
    "### 0 children, 2 adult households:"
   ]
  },
  {
   "cell_type": "code",
   "execution_count": 15,
   "id": "fcf573fc",
   "metadata": {},
   "outputs": [
    {
     "name": "stdout",
     "output_type": "stream",
     "text": [
      "Number of 0 child/2 adult households WITH expenditure data:  80\n"
     ]
    }
   ],
   "source": [
    "# Pull a list of household ID's from the initial family breakdowns:\n",
    "# (we will use a more refined ID list once we know what households to drop for having all NaN expenditure values)\n",
    "zero_kid_rough_ids = get_ids(zero_kid)\n",
    "\n",
    "# Getting expenditure dataframe just for this family breakdown, and dropping the ones with no expenditure data:\n",
    "zero_kid_x = (x_2011[x_2011.index.get_level_values('j').isin(zero_kid_rough_ids)]).dropna(axis=0, how='all')\n",
    "\n",
    "# TOTAL sum expenditure per household:\n",
    "zero_kid_total_x = get_total_exp(zero_kid_x)\n",
    "\n",
    "zero_kid_ids = get_ids(zero_kid_x)\n",
    "\n",
    "print('Number of 0 child/2 adult households WITH expenditure data: ', len(zero_kid_x))"
   ]
  },
  {
   "cell_type": "markdown",
   "id": "0caa217e",
   "metadata": {},
   "source": [
    "### 1 child, 2 adult households:"
   ]
  },
  {
   "cell_type": "code",
   "execution_count": 16,
   "id": "21e0f6ee",
   "metadata": {},
   "outputs": [
    {
     "name": "stdout",
     "output_type": "stream",
     "text": [
      "Number of 1 child/2 adult households WITH expenditure data:  142\n"
     ]
    }
   ],
   "source": [
    "# Repeat above for each household breakdown:\n",
    "one_kid_rough_ids = get_ids(one_kid)\n",
    "one_kid_x = (x_2011[x_2011.index.get_level_values('j').isin(one_kid_rough_ids)]).dropna(axis=0, how='all')\n",
    "one_kid_total_x = get_total_exp(one_kid_x)\n",
    "one_kid_ids = get_ids(one_kid_x)\n",
    "\n",
    "print('Number of 1 child/2 adult households WITH expenditure data: ', len(one_kid_x))"
   ]
  },
  {
   "cell_type": "markdown",
   "id": "79fa2688",
   "metadata": {},
   "source": [
    "### 2 child, 2 adult households:"
   ]
  },
  {
   "cell_type": "code",
   "execution_count": 17,
   "id": "2fafdd00",
   "metadata": {},
   "outputs": [
    {
     "name": "stdout",
     "output_type": "stream",
     "text": [
      "Number of 2 child/2 adult households WITH expenditure data:  190\n"
     ]
    }
   ],
   "source": [
    "two_kid_rough_ids = get_ids(two_kid)\n",
    "two_kid_x = (x_2011[x_2011.index.get_level_values('j').isin(two_kid_rough_ids)]).dropna(axis=0, how='all')\n",
    "two_kid_total_x = get_total_exp(two_kid_x)\n",
    "two_kid_ids = get_ids(two_kid_x)\n",
    "\n",
    "print('Number of 2 child/2 adult households WITH expenditure data: ', len(two_kid_x))"
   ]
  },
  {
   "cell_type": "markdown",
   "id": "ebbf5ac5",
   "metadata": {},
   "source": [
    "### 3 child, 2 adult households:"
   ]
  },
  {
   "cell_type": "code",
   "execution_count": 18,
   "id": "c9f39af9",
   "metadata": {},
   "outputs": [
    {
     "name": "stdout",
     "output_type": "stream",
     "text": [
      "Number of 3 child/2 adult households WITH expenditure data:  226\n"
     ]
    }
   ],
   "source": [
    "three_kid_rough_ids = get_ids(three_kid)\n",
    "three_kid_x = (x_2011[x_2011.index.get_level_values('j').isin(three_kid_rough_ids)]).dropna(axis=0, how='all')\n",
    "three_kid_total_x = get_total_exp(three_kid_x)\n",
    "three_kid_ids = get_ids(three_kid_x)\n",
    "\n",
    "print('Number of 3 child/2 adult households WITH expenditure data: ', len(three_kid_x))"
   ]
  },
  {
   "cell_type": "markdown",
   "id": "fd4ca78c",
   "metadata": {},
   "source": [
    "### 4 child, 2 adult households:"
   ]
  },
  {
   "cell_type": "code",
   "execution_count": 19,
   "id": "83adc1ce",
   "metadata": {},
   "outputs": [
    {
     "name": "stdout",
     "output_type": "stream",
     "text": [
      "Number of 4 child/2 adult households WITH expenditure data:  216\n"
     ]
    }
   ],
   "source": [
    "four_kid_rough_ids = get_ids(four_kid)\n",
    "four_kid_x = (x_2011[x_2011.index.get_level_values('j').isin(four_kid_rough_ids)]).dropna(axis=0, how='all')\n",
    "four_kid_total_x = get_total_exp(four_kid_x)\n",
    "four_kid_ids = get_ids(four_kid_x)\n",
    "\n",
    "print('Number of 4 child/2 adult households WITH expenditure data: ', len(four_kid_x))"
   ]
  },
  {
   "cell_type": "markdown",
   "id": "072691a7",
   "metadata": {},
   "source": [
    "### 5 child, 2 adult households:"
   ]
  },
  {
   "cell_type": "code",
   "execution_count": 20,
   "id": "6b26862b",
   "metadata": {},
   "outputs": [
    {
     "name": "stdout",
     "output_type": "stream",
     "text": [
      "Number of 5 child/2 adult households WITH expenditure data:  184\n"
     ]
    }
   ],
   "source": [
    "five_kid_rough_ids = get_ids(five_kid)\n",
    "five_kid_x = (x_2011[x_2011.index.get_level_values('j').isin(five_kid_rough_ids)]).dropna(axis=0, how='all')\n",
    "five_kid_total_x = get_total_exp(five_kid_x)\n",
    "five_kid_ids = get_ids(five_kid_x)\n",
    "\n",
    "print('Number of 5 child/2 adult households WITH expenditure data: ', len(five_kid_x))"
   ]
  },
  {
   "cell_type": "markdown",
   "id": "5a02acb9",
   "metadata": {},
   "source": [
    "### 6 child, 2 adult households:"
   ]
  },
  {
   "cell_type": "code",
   "execution_count": 21,
   "id": "f2fbe797",
   "metadata": {},
   "outputs": [
    {
     "name": "stdout",
     "output_type": "stream",
     "text": [
      "Number of 6 child/2 adult households WITH expenditure data:  108\n"
     ]
    }
   ],
   "source": [
    "six_kid_rough_ids = get_ids(six_kid)\n",
    "six_kid_x = (x_2011[x_2011.index.get_level_values('j').isin(six_kid_rough_ids)]).dropna(axis=0, how='all')\n",
    "six_kid_total_x = get_total_exp(six_kid_x)\n",
    "six_kid_ids = get_ids(six_kid_x)\n",
    "\n",
    "print('Number of 6 child/2 adult households WITH expenditure data: ', len(six_kid_x))"
   ]
  },
  {
   "cell_type": "markdown",
   "id": "b529b49c",
   "metadata": {},
   "source": [
    "Now income? or no?\n",
    "* If we take the average of each dataframe's expenditures, we'll get a rough picture of how expenditures increase, and because we can't get income data, taking an average of ALL households with this child breakdown will give us a rough picture still"
   ]
  },
  {
   "cell_type": "code",
   "execution_count": 22,
   "id": "0e1a6819",
   "metadata": {},
   "outputs": [],
   "source": [
    "exp_data = {'Num Kids':[0, 1, 2, 3, 4, 5, 6],\n",
    "        'Avg Expenditure (UGX)':[average_exp(zero_kid_total_x), average_exp(one_kid_total_x), average_exp(two_kid_total_x), average_exp(three_kid_total_x), average_exp(four_kid_total_x), average_exp(five_kid_total_x), average_exp(six_kid_total_x)]}\n",
    "\n",
    "exp_table = pd.DataFrame(exp_data)\n"
   ]
  },
  {
   "cell_type": "code",
   "execution_count": 23,
   "id": "f6ecd5c9",
   "metadata": {},
   "outputs": [
    {
     "data": {
      "text/html": [
       "<div>\n",
       "<style scoped>\n",
       "    .dataframe tbody tr th:only-of-type {\n",
       "        vertical-align: middle;\n",
       "    }\n",
       "\n",
       "    .dataframe tbody tr th {\n",
       "        vertical-align: top;\n",
       "    }\n",
       "\n",
       "    .dataframe thead th {\n",
       "        text-align: right;\n",
       "    }\n",
       "</style>\n",
       "<table border=\"1\" class=\"dataframe\">\n",
       "  <thead>\n",
       "    <tr style=\"text-align: right;\">\n",
       "      <th></th>\n",
       "      <th>Num Kids</th>\n",
       "      <th>Avg Expenditure (UGX)</th>\n",
       "    </tr>\n",
       "  </thead>\n",
       "  <tbody>\n",
       "    <tr>\n",
       "      <th>0</th>\n",
       "      <td>0</td>\n",
       "      <td>21588.062500</td>\n",
       "    </tr>\n",
       "    <tr>\n",
       "      <th>1</th>\n",
       "      <td>1</td>\n",
       "      <td>27643.239437</td>\n",
       "    </tr>\n",
       "    <tr>\n",
       "      <th>2</th>\n",
       "      <td>2</td>\n",
       "      <td>26814.578947</td>\n",
       "    </tr>\n",
       "    <tr>\n",
       "      <th>3</th>\n",
       "      <td>3</td>\n",
       "      <td>25776.360619</td>\n",
       "    </tr>\n",
       "    <tr>\n",
       "      <th>4</th>\n",
       "      <td>4</td>\n",
       "      <td>26222.893519</td>\n",
       "    </tr>\n",
       "    <tr>\n",
       "      <th>5</th>\n",
       "      <td>5</td>\n",
       "      <td>29320.538043</td>\n",
       "    </tr>\n",
       "    <tr>\n",
       "      <th>6</th>\n",
       "      <td>6</td>\n",
       "      <td>30356.111111</td>\n",
       "    </tr>\n",
       "  </tbody>\n",
       "</table>\n",
       "</div>"
      ],
      "text/plain": [
       "   Num Kids  Avg Expenditure (UGX)\n",
       "0         0           21588.062500\n",
       "1         1           27643.239437\n",
       "2         2           26814.578947\n",
       "3         3           25776.360619\n",
       "4         4           26222.893519\n",
       "5         5           29320.538043\n",
       "6         6           30356.111111"
      ]
     },
     "execution_count": 23,
     "metadata": {},
     "output_type": "execute_result"
    }
   ],
   "source": [
    "exp_table"
   ]
  },
  {
   "cell_type": "code",
   "execution_count": 24,
   "id": "2564843d",
   "metadata": {},
   "outputs": [],
   "source": [
    "# Conversion for picturing it better: \n",
    "# 1 UGX = 0.000282670 USD\n",
    "\n",
    "exp_table['Avg Expenditure (USD)'] = exp_table['Avg Expenditure (UGX)']*0.000282413"
   ]
  },
  {
   "cell_type": "markdown",
   "id": "b829fd1a",
   "metadata": {},
   "source": [
    "#### Conversions for Context:"
   ]
  },
  {
   "cell_type": "code",
   "execution_count": 25,
   "id": "cfc58f13",
   "metadata": {},
   "outputs": [
    {
     "data": {
      "text/html": [
       "<div>\n",
       "<style scoped>\n",
       "    .dataframe tbody tr th:only-of-type {\n",
       "        vertical-align: middle;\n",
       "    }\n",
       "\n",
       "    .dataframe tbody tr th {\n",
       "        vertical-align: top;\n",
       "    }\n",
       "\n",
       "    .dataframe thead th {\n",
       "        text-align: right;\n",
       "    }\n",
       "</style>\n",
       "<table border=\"1\" class=\"dataframe\">\n",
       "  <thead>\n",
       "    <tr style=\"text-align: right;\">\n",
       "      <th></th>\n",
       "      <th>Num Kids</th>\n",
       "      <th>Avg Expenditure (UGX)</th>\n",
       "      <th>Avg Expenditure (USD)</th>\n",
       "    </tr>\n",
       "  </thead>\n",
       "  <tbody>\n",
       "    <tr>\n",
       "      <th>0</th>\n",
       "      <td>0</td>\n",
       "      <td>21588.062500</td>\n",
       "      <td>6.096749</td>\n",
       "    </tr>\n",
       "    <tr>\n",
       "      <th>1</th>\n",
       "      <td>1</td>\n",
       "      <td>27643.239437</td>\n",
       "      <td>7.806810</td>\n",
       "    </tr>\n",
       "    <tr>\n",
       "      <th>2</th>\n",
       "      <td>2</td>\n",
       "      <td>26814.578947</td>\n",
       "      <td>7.572786</td>\n",
       "    </tr>\n",
       "    <tr>\n",
       "      <th>3</th>\n",
       "      <td>3</td>\n",
       "      <td>25776.360619</td>\n",
       "      <td>7.279579</td>\n",
       "    </tr>\n",
       "    <tr>\n",
       "      <th>4</th>\n",
       "      <td>4</td>\n",
       "      <td>26222.893519</td>\n",
       "      <td>7.405686</td>\n",
       "    </tr>\n",
       "    <tr>\n",
       "      <th>5</th>\n",
       "      <td>5</td>\n",
       "      <td>29320.538043</td>\n",
       "      <td>8.280501</td>\n",
       "    </tr>\n",
       "    <tr>\n",
       "      <th>6</th>\n",
       "      <td>6</td>\n",
       "      <td>30356.111111</td>\n",
       "      <td>8.572960</td>\n",
       "    </tr>\n",
       "  </tbody>\n",
       "</table>\n",
       "</div>"
      ],
      "text/plain": [
       "   Num Kids  Avg Expenditure (UGX)  Avg Expenditure (USD)\n",
       "0         0           21588.062500               6.096749\n",
       "1         1           27643.239437               7.806810\n",
       "2         2           26814.578947               7.572786\n",
       "3         3           25776.360619               7.279579\n",
       "4         4           26222.893519               7.405686\n",
       "5         5           29320.538043               8.280501\n",
       "6         6           30356.111111               8.572960"
      ]
     },
     "execution_count": 25,
     "metadata": {},
     "output_type": "execute_result"
    }
   ],
   "source": [
    "exp_table"
   ]
  },
  {
   "cell_type": "markdown",
   "id": "e7055a2b",
   "metadata": {},
   "source": [
    "## Picturing Average Expenditure per Week"
   ]
  },
  {
   "cell_type": "code",
   "execution_count": 26,
   "id": "1caf7392",
   "metadata": {},
   "outputs": [
    {
     "data": {
      "text/plain": [
       "Text(0, 0.5, 'Average Household Expenditure (in UGX)')"
      ]
     },
     "execution_count": 26,
     "metadata": {},
     "output_type": "execute_result"
    },
    {
     "data": {
      "image/png": "[encoded data removed]",
      "text/plain": [
       "<Figure size 504x360 with 1 Axes>"
      ]
     },
     "metadata": {
      "needs_background": "light"
     },
     "output_type": "display_data"
    }
   ],
   "source": [
    "num_kids = exp_table['Num Kids'].to_list()\n",
    "exp = exp_table['Avg Expenditure (UGX)'].to_list()\n",
    " \n",
    "# Figure Size\n",
    "fig, ax = plt.subplots(figsize =(7, 5))\n",
    " \n",
    "# Horizontal Bar Plot\n",
    "ax.bar(num_kids, exp)\n",
    "\n",
    "ax.set_title('Number of kids (+2 Adults) vs. Average Household Expenditure Per Week', fontweight='bold', fontsize=12)\n",
    "\n",
    "ax.set_ylim([15000, 32000])\n",
    "\n",
    "plt.xlabel('Number of Kids', fontweight='bold')\n",
    "plt.ylabel('Average Household Expenditure (in UGX)', fontweight='bold')\n"
   ]
  },
  {
   "cell_type": "markdown",
   "id": "82954233",
   "metadata": {},
   "source": [
    "## Estimate Demand System"
   ]
  },
  {
   "cell_type": "code",
   "execution_count": 27,
   "id": "05bb402d",
   "metadata": {},
   "outputs": [],
   "source": [
    "one_kid_z = (z_2011[z_2011.index.get_level_values('j').isin(one_kid_ids)]).drop(['Children', 'Adults'], axis=1)\n",
    "one_kid_y = np.log(one_kid_x)\n",
    "\n",
    "three_kid_z = (z_2011[z_2011.index.get_level_values('j').isin(three_kid_ids)]).drop(['Children', 'Adults'], axis=1)\n",
    "three_kid_y = np.log(three_kid_x)\n",
    "\n",
    "five_kid_z = (z_2011[z_2011.index.get_level_values('j').isin(five_kid_ids)]).drop(['Children', 'Adults'], axis=1)\n",
    "five_kid_y = np.log(five_kid_x)"
   ]
  },
  {
   "cell_type": "code",
   "execution_count": 28,
   "id": "9b413212",
   "metadata": {},
   "outputs": [
    {
     "name": "stdout",
     "output_type": "stream",
     "text": [
      "Missing dependencies for OracleDemands.\n"
     ]
    }
   ],
   "source": [
    "# Create reduced form\n",
    "import cfe\n",
    "\n",
    "result_one = cfe.Result(y=one_kid_y, z=one_kid_z)\n",
    "result_three = cfe.Result(y=three_kid_y, z=three_kid_z)\n",
    "result_five = cfe.Result(y=five_kid_y, z=five_kid_z)"
   ]
  },
  {
   "cell_type": "code",
   "execution_count": 29,
   "id": "3fcb68e5",
   "metadata": {},
   "outputs": [
    {
     "name": "stderr",
     "output_type": "stream",
     "text": [
      "/opt/conda/lib/python3.9/site-packages/cfe/estimation.py:425: UserWarning: No variation in: (2011, 1)\n",
      "  warnings.warn(\"No variation in: %s\" % str(constant))\n",
      "/opt/conda/lib/python3.9/site-packages/cfe/estimation.py:457: RuntimeWarning: invalid value encountered in sqrt\n",
      "  sed[Item]=pd.Series(np.sqrt(np.diag(V[Item])), index=z.columns) # reduced form se on characteristics\n"
     ]
    }
   ],
   "source": [
    "# run this to be able to run the next few lines:\n",
    "result_one.get_reduced_form()\n",
    "result_three.get_reduced_form()\n",
    "result_five.get_reduced_form()"
   ]
  },
  {
   "cell_type": "markdown",
   "id": "6c1a0e3a",
   "metadata": {},
   "source": [
    "### Delta Values\n",
    "\n",
    "#### ONE CHILD HOUSEHOLDS:"
   ]
  },
  {
   "cell_type": "code",
   "execution_count": 30,
   "id": "d9e1e578",
   "metadata": {},
   "outputs": [],
   "source": [
    "# uncomment to see\n",
    "# result_one.delta.to_dataframe().unstack('k')"
   ]
  },
  {
   "cell_type": "markdown",
   "id": "c580cd32",
   "metadata": {},
   "source": [
    "#### THREE CHILD HOUSEHOLDS:"
   ]
  },
  {
   "cell_type": "code",
   "execution_count": 31,
   "id": "829e09c9",
   "metadata": {},
   "outputs": [],
   "source": [
    "# uncomment to see\n",
    "# result_three.delta.to_dataframe().unstack('k')"
   ]
  },
  {
   "cell_type": "markdown",
   "id": "680f4974",
   "metadata": {},
   "source": [
    "#### FIVE CHILD HOUSEHOLDS:"
   ]
  },
  {
   "cell_type": "code",
   "execution_count": 32,
   "id": "71084b7a",
   "metadata": {},
   "outputs": [],
   "source": [
    "# uncomment to see\n",
    "# result_three.delta.to_dataframe().unstack('k')"
   ]
  },
  {
   "cell_type": "markdown",
   "id": "d1a59e5a",
   "metadata": {},
   "source": [
    "### Alpha Values\n",
    "\n",
    "#### ONE CHILD HOUSEHOLDS:"
   ]
  },
  {
   "cell_type": "code",
   "execution_count": 33,
   "id": "0c5474c2",
   "metadata": {},
   "outputs": [
    {
     "data": {
      "text/html": [
       "<div>\n",
       "<style scoped>\n",
       "    .dataframe tbody tr th:only-of-type {\n",
       "        vertical-align: middle;\n",
       "    }\n",
       "\n",
       "    .dataframe tbody tr th {\n",
       "        vertical-align: top;\n",
       "    }\n",
       "\n",
       "    .dataframe thead tr th {\n",
       "        text-align: left;\n",
       "    }\n",
       "\n",
       "    .dataframe thead tr:last-of-type th {\n",
       "        text-align: right;\n",
       "    }\n",
       "</style>\n",
       "<table border=\"1\" class=\"dataframe\">\n",
       "  <thead>\n",
       "    <tr>\n",
       "      <th></th>\n",
       "      <th></th>\n",
       "      <th colspan=\"9\" halign=\"left\">a</th>\n",
       "    </tr>\n",
       "    <tr>\n",
       "      <th></th>\n",
       "      <th>i</th>\n",
       "      <th>cooking oil</th>\n",
       "      <th>fresh milk</th>\n",
       "      <th>maize flour</th>\n",
       "      <th>onions</th>\n",
       "      <th>rice</th>\n",
       "      <th>salt</th>\n",
       "      <th>sugar</th>\n",
       "      <th>tea</th>\n",
       "      <th>tomatoes</th>\n",
       "    </tr>\n",
       "    <tr>\n",
       "      <th>t</th>\n",
       "      <th>m</th>\n",
       "      <th></th>\n",
       "      <th></th>\n",
       "      <th></th>\n",
       "      <th></th>\n",
       "      <th></th>\n",
       "      <th></th>\n",
       "      <th></th>\n",
       "      <th></th>\n",
       "      <th></th>\n",
       "    </tr>\n",
       "  </thead>\n",
       "  <tbody>\n",
       "    <tr>\n",
       "      <th>2011</th>\n",
       "      <th>1</th>\n",
       "      <td>1.736885e+14</td>\n",
       "      <td>2.479924e+15</td>\n",
       "      <td>1.962522e+14</td>\n",
       "      <td>4.220186e+14</td>\n",
       "      <td>4.975309e+14</td>\n",
       "      <td>3.694983e+14</td>\n",
       "      <td>7.791682</td>\n",
       "      <td>6.639162e+14</td>\n",
       "      <td>8.080980e+14</td>\n",
       "    </tr>\n",
       "  </tbody>\n",
       "</table>\n",
       "</div>"
      ],
      "text/plain": [
       "                   a                                                          \\\n",
       "i        cooking oil    fresh milk   maize flour        onions          rice   \n",
       "t    m                                                                         \n",
       "2011 1  1.736885e+14  2.479924e+15  1.962522e+14  4.220186e+14  4.975309e+14   \n",
       "\n",
       "                                                            \n",
       "i               salt     sugar           tea      tomatoes  \n",
       "t    m                                                      \n",
       "2011 1  3.694983e+14  7.791682  6.639162e+14  8.080980e+14  "
      ]
     },
     "execution_count": 33,
     "metadata": {},
     "output_type": "execute_result"
    }
   ],
   "source": [
    "result_one.a.to_dataframe().unstack('i')"
   ]
  },
  {
   "cell_type": "markdown",
   "id": "c3ad0064",
   "metadata": {},
   "source": [
    "#### THREE CHILD HOUSEHOLDS:"
   ]
  },
  {
   "cell_type": "code",
   "execution_count": 34,
   "id": "cdfeb9c3",
   "metadata": {},
   "outputs": [
    {
     "data": {
      "text/html": [
       "<div>\n",
       "<style scoped>\n",
       "    .dataframe tbody tr th:only-of-type {\n",
       "        vertical-align: middle;\n",
       "    }\n",
       "\n",
       "    .dataframe tbody tr th {\n",
       "        vertical-align: top;\n",
       "    }\n",
       "\n",
       "    .dataframe thead tr th {\n",
       "        text-align: left;\n",
       "    }\n",
       "\n",
       "    .dataframe thead tr:last-of-type th {\n",
       "        text-align: right;\n",
       "    }\n",
       "</style>\n",
       "<table border=\"1\" class=\"dataframe\">\n",
       "  <thead>\n",
       "    <tr>\n",
       "      <th></th>\n",
       "      <th></th>\n",
       "      <th colspan=\"9\" halign=\"left\">a</th>\n",
       "    </tr>\n",
       "    <tr>\n",
       "      <th></th>\n",
       "      <th>i</th>\n",
       "      <th>beans dry</th>\n",
       "      <th>beef</th>\n",
       "      <th>cooking oil</th>\n",
       "      <th>maize flour</th>\n",
       "      <th>onions</th>\n",
       "      <th>salt</th>\n",
       "      <th>sugar</th>\n",
       "      <th>tea</th>\n",
       "      <th>tomatoes</th>\n",
       "    </tr>\n",
       "    <tr>\n",
       "      <th>t</th>\n",
       "      <th>m</th>\n",
       "      <th></th>\n",
       "      <th></th>\n",
       "      <th></th>\n",
       "      <th></th>\n",
       "      <th></th>\n",
       "      <th></th>\n",
       "      <th></th>\n",
       "      <th></th>\n",
       "      <th></th>\n",
       "    </tr>\n",
       "  </thead>\n",
       "  <tbody>\n",
       "    <tr>\n",
       "      <th>2011</th>\n",
       "      <th>1</th>\n",
       "      <td>-4.772796e+14</td>\n",
       "      <td>-5.460487e+14</td>\n",
       "      <td>5.248491e+14</td>\n",
       "      <td>2.152473e+14</td>\n",
       "      <td>2.907106e+14</td>\n",
       "      <td>-1.460945e+14</td>\n",
       "      <td>-5.032084e+14</td>\n",
       "      <td>3.435509e+14</td>\n",
       "      <td>-4.845234e+13</td>\n",
       "    </tr>\n",
       "  </tbody>\n",
       "</table>\n",
       "</div>"
      ],
      "text/plain": [
       "                   a                                                          \\\n",
       "i          beans dry          beef   cooking oil   maize flour        onions   \n",
       "t    m                                                                         \n",
       "2011 1 -4.772796e+14 -5.460487e+14  5.248491e+14  2.152473e+14  2.907106e+14   \n",
       "\n",
       "                                                                \n",
       "i               salt         sugar           tea      tomatoes  \n",
       "t    m                                                          \n",
       "2011 1 -1.460945e+14 -5.032084e+14  3.435509e+14 -4.845234e+13  "
      ]
     },
     "execution_count": 34,
     "metadata": {},
     "output_type": "execute_result"
    }
   ],
   "source": [
    "result_three.a.to_dataframe().unstack('i')"
   ]
  },
  {
   "cell_type": "markdown",
   "id": "dfd6b14f",
   "metadata": {},
   "source": [
    "#### FIVE CHILD HOUSEHOLDS:"
   ]
  },
  {
   "cell_type": "code",
   "execution_count": 35,
   "id": "53a299d6",
   "metadata": {},
   "outputs": [
    {
     "data": {
      "text/html": [
       "<div>\n",
       "<style scoped>\n",
       "    .dataframe tbody tr th:only-of-type {\n",
       "        vertical-align: middle;\n",
       "    }\n",
       "\n",
       "    .dataframe tbody tr th {\n",
       "        vertical-align: top;\n",
       "    }\n",
       "\n",
       "    .dataframe thead tr th {\n",
       "        text-align: left;\n",
       "    }\n",
       "\n",
       "    .dataframe thead tr:last-of-type th {\n",
       "        text-align: right;\n",
       "    }\n",
       "</style>\n",
       "<table border=\"1\" class=\"dataframe\">\n",
       "  <thead>\n",
       "    <tr>\n",
       "      <th></th>\n",
       "      <th></th>\n",
       "      <th colspan=\"8\" halign=\"left\">a</th>\n",
       "    </tr>\n",
       "    <tr>\n",
       "      <th></th>\n",
       "      <th>i</th>\n",
       "      <th>cooking oil</th>\n",
       "      <th>fresh milk</th>\n",
       "      <th>maize flour</th>\n",
       "      <th>onions</th>\n",
       "      <th>salt</th>\n",
       "      <th>sugar</th>\n",
       "      <th>tea</th>\n",
       "      <th>tomatoes</th>\n",
       "    </tr>\n",
       "    <tr>\n",
       "      <th>t</th>\n",
       "      <th>m</th>\n",
       "      <th></th>\n",
       "      <th></th>\n",
       "      <th></th>\n",
       "      <th></th>\n",
       "      <th></th>\n",
       "      <th></th>\n",
       "      <th></th>\n",
       "      <th></th>\n",
       "    </tr>\n",
       "  </thead>\n",
       "  <tbody>\n",
       "    <tr>\n",
       "      <th>2011</th>\n",
       "      <th>1</th>\n",
       "      <td>2.409541e+13</td>\n",
       "      <td>-2.047719e+15</td>\n",
       "      <td>8.394634</td>\n",
       "      <td>-9.192232e+13</td>\n",
       "      <td>-2.619635e+14</td>\n",
       "      <td>-9.850061e+13</td>\n",
       "      <td>7.830396e+13</td>\n",
       "      <td>-1.529472e+15</td>\n",
       "    </tr>\n",
       "  </tbody>\n",
       "</table>\n",
       "</div>"
      ],
      "text/plain": [
       "                   a                                                        \\\n",
       "i        cooking oil    fresh milk maize flour        onions          salt   \n",
       "t    m                                                                       \n",
       "2011 1  2.409541e+13 -2.047719e+15    8.394634 -9.192232e+13 -2.619635e+14   \n",
       "\n",
       "                                                  \n",
       "i              sugar           tea      tomatoes  \n",
       "t    m                                            \n",
       "2011 1 -9.850061e+13  7.830396e+13 -1.529472e+15  "
      ]
     },
     "execution_count": 35,
     "metadata": {},
     "output_type": "execute_result"
    }
   ],
   "source": [
    "result_five.a.to_dataframe().unstack('i')"
   ]
  },
  {
   "cell_type": "markdown",
   "id": "9838996a",
   "metadata": {},
   "source": [
    "### Beta Values"
   ]
  },
  {
   "cell_type": "markdown",
   "id": "0dd8733f",
   "metadata": {},
   "source": [
    "#### ONE CHILD HOUSEHOLDS:"
   ]
  },
  {
   "cell_type": "code",
   "execution_count": 36,
   "id": "1cbd98cc",
   "metadata": {},
   "outputs": [
    {
     "data": {
      "text/plain": [
       "i\n",
       "cooking oil    0.233073\n",
       "fresh milk     0.783953\n",
       "maize flour    0.205807\n",
       "onions         0.378130\n",
       "rice           0.314677\n",
       "salt           0.162821\n",
       "sugar          0.257697\n",
       "tea            0.514285\n",
       "tomatoes       0.456100\n",
       "Name: beta, dtype: float64"
      ]
     },
     "execution_count": 36,
     "metadata": {},
     "output_type": "execute_result"
    }
   ],
   "source": [
    "beta_one = result_one.get_beta(as_df=True)\n",
    "beta_one"
   ]
  },
  {
   "cell_type": "markdown",
   "id": "ce66d1ac",
   "metadata": {},
   "source": [
    "#### THREE CHILD HOUSEHOLDS:"
   ]
  },
  {
   "cell_type": "code",
   "execution_count": 37,
   "id": "ed829778",
   "metadata": {},
   "outputs": [
    {
     "data": {
      "text/plain": [
       "i\n",
       "beans dry      0.023871\n",
       "beef           0.048439\n",
       "cooking oil    0.451476\n",
       "maize flour   -0.453853\n",
       "onions         0.592390\n",
       "salt           0.002226\n",
       "sugar          0.342707\n",
       "tea            0.429852\n",
       "tomatoes       0.461831\n",
       "Name: beta, dtype: float64"
      ]
     },
     "execution_count": 37,
     "metadata": {},
     "output_type": "execute_result"
    }
   ],
   "source": [
    "beta_three = result_three.get_beta(as_df=True)\n",
    "beta_three"
   ]
  },
  {
   "cell_type": "markdown",
   "id": "1aa7b336",
   "metadata": {},
   "source": [
    "#### FIVE CHILD HOUSEHOLDS:"
   ]
  },
  {
   "cell_type": "code",
   "execution_count": 38,
   "id": "15e3f129",
   "metadata": {},
   "outputs": [
    {
     "data": {
      "text/plain": [
       "i\n",
       "cooking oil   -0.115061\n",
       "fresh milk    -0.936009\n",
       "maize flour    0.761110\n",
       "onions         0.059845\n",
       "salt           0.165971\n",
       "sugar         -0.276508\n",
       "tea            0.467735\n",
       "tomatoes       0.078094\n",
       "Name: beta, dtype: float64"
      ]
     },
     "execution_count": 38,
     "metadata": {},
     "output_type": "execute_result"
    }
   ],
   "source": [
    "beta_five = result_five.get_beta(as_df=True)\n",
    "beta_five"
   ]
  },
  {
   "cell_type": "markdown",
   "id": "72dcbe41",
   "metadata": {},
   "source": [
    "## Visualize Some Demand:\n",
    "\n",
    "Look at:\n",
    "* maize flour \n",
    "* tomatoes\n",
    "* tea"
   ]
  },
  {
   "cell_type": "code",
   "execution_count": 39,
   "id": "88303656",
   "metadata": {},
   "outputs": [],
   "source": [
    "# Put demand values into dataframes to pull from by name of good:\n",
    "\n",
    "beta_one_df = beta_one.to_frame().reset_index().rename(columns= {'i': 'good'})\n",
    "beta_three_df = beta_three.to_frame().reset_index().rename(columns= {'i': 'good'})\n",
    "beta_five_df = beta_five.to_frame().reset_index().rename(columns= {'i': 'good'})"
   ]
  },
  {
   "cell_type": "code",
   "execution_count": 40,
   "id": "55ec1a3c",
   "metadata": {},
   "outputs": [],
   "source": [
    "# Create a dataframe to compare beta values for a single good for all household breakdowns:\n",
    "\n",
    "def beta_df(good):\n",
    "    values = []\n",
    "    for df in [beta_one_df, beta_three_df, beta_five_df]:\n",
    "        values.append(df[df['good'] == good].iloc[0]['beta'])\n",
    "    return pd.DataFrame([[1, values[0]], [3, values[1]], [5, values[2]]], columns = ['Children', 'Beta'])"
   ]
  },
  {
   "cell_type": "code",
   "execution_count": 41,
   "id": "10e67107",
   "metadata": {},
   "outputs": [],
   "source": [
    "maize_flour_beta = beta_df('maize flour')\n",
    "tomatoes_beta = beta_df('tomatoes')\n",
    "tea_beta = beta_df('tea')\n",
    "cooking_oil_beta = beta_df('cooking oil')\n",
    "onions_beta = beta_df('onions')\n",
    "salt_beta = beta_df('salt')\n",
    "sugar_beta = beta_df('sugar')"
   ]
  },
  {
   "cell_type": "code",
   "execution_count": 42,
   "id": "af0e9f18",
   "metadata": {},
   "outputs": [],
   "source": [
    "def make_beta_bar(df, good):\n",
    "    children = df['Children'].to_list()\n",
    "    betas = df['Beta'].to_list()\n",
    "    \n",
    "    # Figure Size\n",
    "    fig, ax = plt.subplots(figsize =(5, 5))\n",
    "    \n",
    "    x1, y1 = [0, 6], [0, 0]\n",
    "    plt.plot(x1, y1, marker = 'o')\n",
    "\n",
    "    col = []\n",
    "    for val in betas:\n",
    "        if val < 0:\n",
    "            col.append('red')\n",
    "        else:\n",
    "            col.append('green')\n",
    "    \n",
    "    # Horizontal Bar Plot\n",
    "    plt.bar(children, betas, color = col)\n",
    "    \n",
    "\n",
    "    ax.set_ylim([-0.4, 0.8])\n",
    "\n",
    "    ax.set_title('Number of kids vs. Beta Value for ' + good, fontweight='bold', fontsize=10)\n",
    "\n",
    "    plt.xlabel('Number of Kids', fontweight='bold')\n",
    "    plt.ylabel('Beta Values for ' + good, fontweight='bold')\n",
    "    return plt"
   ]
  },
  {
   "cell_type": "code",
   "execution_count": 43,
   "id": "405093c5",
   "metadata": {},
   "outputs": [
    {
     "data": {
      "text/plain": [
       "<module 'matplotlib.pyplot' from '/opt/conda/lib/python3.9/site-packages/matplotlib/pyplot.py'>"
      ]
     },
     "execution_count": 43,
     "metadata": {},
     "output_type": "execute_result"
    },
    {
     "data": {
      "image/png": "[encoded data removed]",
      "text/plain": [
       "<Figure size 360x360 with 1 Axes>"
      ]
     },
     "metadata": {
      "needs_background": "light"
     },
     "output_type": "display_data"
    },
    {
     "data": {
      "image/png": "[encoded data removed]",
      "text/plain": [
       "<Figure size 360x360 with 1 Axes>"
      ]
     },
     "metadata": {
      "needs_background": "light"
     },
     "output_type": "display_data"
    },
    {
     "data": {
      "image/png": "[encoded data removed]",
      "text/plain": [
       "<Figure size 360x360 with 1 Axes>"
      ]
     },
     "metadata": {
      "needs_background": "light"
     },
     "output_type": "display_data"
    },
    {
     "data": {
      "image/png": "[encoded data removed]",
      "text/plain": [
       "<Figure size 360x360 with 1 Axes>"
      ]
     },
     "metadata": {
      "needs_background": "light"
     },
     "output_type": "display_data"
    },
    {
     "data": {
      "image/png": "[encoded data removed]",
      "text/plain": [
       "<Figure size 360x360 with 1 Axes>"
      ]
     },
     "metadata": {
      "needs_background": "light"
     },
     "output_type": "display_data"
    },
    {
     "data": {
      "image/png": "[encoded data removed]",
      "text/plain": [
       "<Figure size 360x360 with 1 Axes>"
      ]
     },
     "metadata": {
      "needs_background": "light"
     },
     "output_type": "display_data"
    },
    {
     "data": {
      "image/png": "[encoded data removed]",
      "text/plain": [
       "<Figure size 360x360 with 1 Axes>"
      ]
     },
     "metadata": {
      "needs_background": "light"
     },
     "output_type": "display_data"
    }
   ],
   "source": [
    "make_beta_bar(maize_flour_beta, 'maize flour')\n",
    "make_beta_bar(tomatoes_beta, 'tomatoes')\n",
    "make_beta_bar(tea_beta, 'tea')\n",
    "\n",
    "make_beta_bar(cooking_oil_beta, 'cooking oil')\n",
    "make_beta_bar(onions_beta, 'onions')\n",
    "make_beta_bar(salt_beta, 'salt')\n",
    "make_beta_bar(sugar_beta, 'sugar')"
   ]
  },
  {
   "cell_type": "markdown",
   "id": "10934e78",
   "metadata": {},
   "source": [
    "## Nutritional Adequacy Stuff\n",
    "\n",
    "Note: All this code was written by someone now in another group: do we want to rewrite?? Not sure. Yes I might\n",
    "\n",
    "*Deliverables:*\n",
    "* **[A] Construct Nutrient System:** If you can describe quantities demanded as a function of prices, budgets, and household characteristics, and map quantities into nutrients, then you can also describe a system of nutrients as a function of the same variables\n",
    "\n",
    "* **[A] Nutritional challenges & Policy Goal:** Compare predicted nutrition to recommended nutrition. Establish some criteria for deciding what the biggest nutritional challenges are for this population. For example, what share of households is Calorie deficient? Is protein deficient? Is Vitamin A deficient? Note that different criteria are possible, and there is no one “right” criterion. Characterize the nutritional challenges you observe in your data, and construct a policy goal to address some of these challenges (e.g., reduce the proportion of households that are protein deficient by half). \n"
   ]
  },
  {
   "cell_type": "code",
   "execution_count": 13,
   "id": "7d9702f3",
   "metadata": {},
   "outputs": [],
   "source": [
    "foods = result.i.to_dataframe()\n",
    "nutrients = fct[fct.index.isin(list(foods.index.values))]\n",
    "q_items = q.loc[:,list(foods.index.values)]\n",
    "q_items['Sum'] = q_items.sum(axis=1)\n",
    "q_items = q_items[q_items['Sum']>0]\n",
    "q_items = q_items.drop('Sum',axis=1)"
   ]
  },
  {
   "cell_type": "code",
   "execution_count": 14,
   "id": "9ba988f6",
   "metadata": {},
   "outputs": [],
   "source": [
    "diet_req = pd.read_csv(\"dietary_req.csv\").drop(['Source'],axis=1)\n",
    "dietreq = diet_req.set_index('Nutrition')\n",
    "dietreq.iloc[len(dietreq)-1,:] = dietreq.iloc[len(dietreq)-1,:] * -1\n",
    "diet_req = diet_req[diet_req['Nutrition'].isin(['Energy','Protein','Calcium, Ca','Iron, Fe', 'Magnesium, Mg','Vitamin A, RAE','Vitamin B-12','Vitamin B-6','Vitamin C, total ascorbic acid','Zinc, Zn','Vitamin E (alpha-tocopherol)'])]"
   ]
  },
  {
   "cell_type": "code",
   "execution_count": 15,
   "id": "d1daf977",
   "metadata": {},
   "outputs": [],
   "source": [
    "# Definition functions \n",
    "\n",
    "def return_household(row):\n",
    "    household = np.array([])\n",
    "    for j in range(len(row)):\n",
    "        if row[j] == 1:\n",
    "            if (row.index[j] != 'M 0-3') & (row.index[j] != 'F 0-3'):\n",
    "                household = np.append(household,row.index[j])\n",
    "    return household\n",
    "\n",
    "def return_nutrition(household):\n",
    "    nut_pd = pd.DataFrame(np.array(np.zeros(len(diet_req['Nutrition']))),index=diet_req['Nutrition'])\n",
    "    for i in range(len(household)): \n",
    "        req = diet_req.loc[:,household[i]]\n",
    "        nut_pd['Person'+ str(i)] = req.to_list()\n",
    "    nut_pd['Sum'] = nut_pd.sum(axis=1)\n",
    "    return nut_pd\n",
    "\n",
    "def actual_consumption(row):\n",
    "    total_nut = np.zeros(11)\n",
    "    for j in range(len(row)):\n",
    "        nut = np.array(np.zeros(11))\n",
    "        if row[j] > 0:\n",
    "            nut = (fct.loc[q_items.columns[j]].array * int(row[j]))\n",
    "        total_nut = total_nut + nut[0:11]\n",
    "    return total_nut\n",
    "\n",
    "def is_adequate(num):\n",
    "    household = return_household(z.iloc[num])\n",
    "    nut_req = return_nutrition(household)\n",
    "    act_req = actual_consumption(q_items.iloc[num])\n",
    "    adeq = False\n",
    "    if nut_req['Sum'].to_list() < act_req:\n",
    "        adeq = False\n",
    "    else: \n",
    "        adeq = True\n",
    "    return adeq"
   ]
  },
  {
   "cell_type": "code",
   "execution_count": 16,
   "id": "330a467b",
   "metadata": {},
   "outputs": [
    {
     "ename": "IndexError",
     "evalue": "single positional indexer is out-of-bounds",
     "output_type": "error",
     "traceback": [
      "\u001b[0;31m---------------------------------------------------------------------------\u001b[0m",
      "\u001b[0;31mIndexError\u001b[0m                                Traceback (most recent call last)",
      "Input \u001b[0;32mIn [16]\u001b[0m, in \u001b[0;36m<cell line: 2>\u001b[0;34m()\u001b[0m\n\u001b[1;32m      1\u001b[0m adequate \u001b[38;5;241m=\u001b[39m \u001b[38;5;241m0\u001b[39m\n\u001b[1;32m      2\u001b[0m \u001b[38;5;28;01mfor\u001b[39;00m i \u001b[38;5;129;01min\u001b[39;00m \u001b[38;5;28mrange\u001b[39m(\u001b[38;5;28mlen\u001b[39m(q_items)):\n\u001b[0;32m----> 3\u001b[0m     \u001b[38;5;28;01mif\u001b[39;00m \u001b[43mis_adequate\u001b[49m\u001b[43m(\u001b[49m\u001b[43mi\u001b[49m\u001b[43m)\u001b[49m:\n\u001b[1;32m      4\u001b[0m         adequate \u001b[38;5;241m=\u001b[39m adequate \u001b[38;5;241m+\u001b[39m \u001b[38;5;241m1\u001b[39m\n",
      "Input \u001b[0;32mIn [15]\u001b[0m, in \u001b[0;36mis_adequate\u001b[0;34m(num)\u001b[0m\n\u001b[1;32m     28\u001b[0m \u001b[38;5;28;01mdef\u001b[39;00m \u001b[38;5;21mis_adequate\u001b[39m(num):\n\u001b[0;32m---> 29\u001b[0m     household \u001b[38;5;241m=\u001b[39m return_household(\u001b[43mz\u001b[49m\u001b[38;5;241;43m.\u001b[39;49m\u001b[43miloc\u001b[49m\u001b[43m[\u001b[49m\u001b[43mnum\u001b[49m\u001b[43m]\u001b[49m)\n\u001b[1;32m     30\u001b[0m     nut_req \u001b[38;5;241m=\u001b[39m return_nutrition(household)\n\u001b[1;32m     31\u001b[0m     act_req \u001b[38;5;241m=\u001b[39m actual_consumption(q_items\u001b[38;5;241m.\u001b[39miloc[num])\n",
      "File \u001b[0;32m/opt/conda/lib/python3.9/site-packages/pandas/core/indexing.py:931\u001b[0m, in \u001b[0;36m_LocationIndexer.__getitem__\u001b[0;34m(self, key)\u001b[0m\n\u001b[1;32m    928\u001b[0m axis \u001b[38;5;241m=\u001b[39m \u001b[38;5;28mself\u001b[39m\u001b[38;5;241m.\u001b[39maxis \u001b[38;5;129;01mor\u001b[39;00m \u001b[38;5;241m0\u001b[39m\n\u001b[1;32m    930\u001b[0m maybe_callable \u001b[38;5;241m=\u001b[39m com\u001b[38;5;241m.\u001b[39mapply_if_callable(key, \u001b[38;5;28mself\u001b[39m\u001b[38;5;241m.\u001b[39mobj)\n\u001b[0;32m--> 931\u001b[0m \u001b[38;5;28;01mreturn\u001b[39;00m \u001b[38;5;28;43mself\u001b[39;49m\u001b[38;5;241;43m.\u001b[39;49m\u001b[43m_getitem_axis\u001b[49m\u001b[43m(\u001b[49m\u001b[43mmaybe_callable\u001b[49m\u001b[43m,\u001b[49m\u001b[43m \u001b[49m\u001b[43maxis\u001b[49m\u001b[38;5;241;43m=\u001b[39;49m\u001b[43maxis\u001b[49m\u001b[43m)\u001b[49m\n",
      "File \u001b[0;32m/opt/conda/lib/python3.9/site-packages/pandas/core/indexing.py:1566\u001b[0m, in \u001b[0;36m_iLocIndexer._getitem_axis\u001b[0;34m(self, key, axis)\u001b[0m\n\u001b[1;32m   1563\u001b[0m     \u001b[38;5;28;01mraise\u001b[39;00m \u001b[38;5;167;01mTypeError\u001b[39;00m(\u001b[38;5;124m\"\u001b[39m\u001b[38;5;124mCannot index by location index with a non-integer key\u001b[39m\u001b[38;5;124m\"\u001b[39m)\n\u001b[1;32m   1565\u001b[0m \u001b[38;5;66;03m# validate the location\u001b[39;00m\n\u001b[0;32m-> 1566\u001b[0m \u001b[38;5;28;43mself\u001b[39;49m\u001b[38;5;241;43m.\u001b[39;49m\u001b[43m_validate_integer\u001b[49m\u001b[43m(\u001b[49m\u001b[43mkey\u001b[49m\u001b[43m,\u001b[49m\u001b[43m \u001b[49m\u001b[43maxis\u001b[49m\u001b[43m)\u001b[49m\n\u001b[1;32m   1568\u001b[0m \u001b[38;5;28;01mreturn\u001b[39;00m \u001b[38;5;28mself\u001b[39m\u001b[38;5;241m.\u001b[39mobj\u001b[38;5;241m.\u001b[39m_ixs(key, axis\u001b[38;5;241m=\u001b[39maxis)\n",
      "File \u001b[0;32m/opt/conda/lib/python3.9/site-packages/pandas/core/indexing.py:1500\u001b[0m, in \u001b[0;36m_iLocIndexer._validate_integer\u001b[0;34m(self, key, axis)\u001b[0m\n\u001b[1;32m   1498\u001b[0m len_axis \u001b[38;5;241m=\u001b[39m \u001b[38;5;28mlen\u001b[39m(\u001b[38;5;28mself\u001b[39m\u001b[38;5;241m.\u001b[39mobj\u001b[38;5;241m.\u001b[39m_get_axis(axis))\n\u001b[1;32m   1499\u001b[0m \u001b[38;5;28;01mif\u001b[39;00m key \u001b[38;5;241m>\u001b[39m\u001b[38;5;241m=\u001b[39m len_axis \u001b[38;5;129;01mor\u001b[39;00m key \u001b[38;5;241m<\u001b[39m \u001b[38;5;241m-\u001b[39mlen_axis:\n\u001b[0;32m-> 1500\u001b[0m     \u001b[38;5;28;01mraise\u001b[39;00m \u001b[38;5;167;01mIndexError\u001b[39;00m(\u001b[38;5;124m\"\u001b[39m\u001b[38;5;124msingle positional indexer is out-of-bounds\u001b[39m\u001b[38;5;124m\"\u001b[39m)\n",
      "\u001b[0;31mIndexError\u001b[0m: single positional indexer is out-of-bounds"
     ]
    }
   ],
   "source": [
    "adequate = 0\n",
    "for i in range(len(q_items)):\n",
    "    if is_adequate(i):\n",
    "        adequate = adequate + 1"
   ]
  },
  {
   "cell_type": "code",
   "execution_count": null,
   "id": "627ebef7",
   "metadata": {},
   "outputs": [],
   "source": []
  }
 ],
 "metadata": {
  "kernelspec": {
   "display_name": "Python 3 (ipykernel)",
   "language": "python",
   "name": "python3"
  },
  "language_info": {
   "codemirror_mode": {
    "name": "ipython",
    "version": 3
   },
   "file_extension": ".py",
   "mimetype": "text/x-python",
   "name": "python",
   "nbconvert_exporter": "python",
   "pygments_lexer": "ipython3",
   "version": "3.9.12"
  }
 },
 "nbformat": 4,
 "nbformat_minor": 5
}
